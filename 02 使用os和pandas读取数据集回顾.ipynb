{
 "cells": [
  {
   "cell_type": "code",
   "execution_count": null,
   "id": "218190c8",
   "metadata": {},
   "outputs": [],
   "source": [
    "#csv数据集的创建与读取\n",
    "#os与pandas的使用"
   ]
  },
  {
   "cell_type": "code",
   "execution_count": 2,
   "id": "fbde1f1c",
   "metadata": {},
   "outputs": [],
   "source": [
    "import os"
   ]
  },
  {
   "cell_type": "code",
   "execution_count": 6,
   "id": "1c6b8cbd",
   "metadata": {},
   "outputs": [],
   "source": [
    "os.makedirs(os.path.join('data'),exist_ok=True)"
   ]
  },
  {
   "cell_type": "code",
   "execution_count": 7,
   "id": "ba9ecabb",
   "metadata": {},
   "outputs": [],
   "source": [
    "data_file = os.path.join('data','house_tiny.csv')"
   ]
  },
  {
   "cell_type": "code",
   "execution_count": 17,
   "id": "09575507",
   "metadata": {},
   "outputs": [],
   "source": [
    "with open(data_file, 'w') as f:\n",
    "    f.write('NumRooms,Alley,Price\\n')\n",
    "    f.write('NA,Pave,127500\\n')  # 每行表示一个数据样本\n",
    "    f.write('2,NA,106000\\n')\n",
    "    f.write('4,NA,178100\\n')\n",
    "    f.write('NA,NA,140000\\n')"
   ]
  },
  {
   "cell_type": "code",
   "execution_count": 18,
   "id": "9d491a33",
   "metadata": {},
   "outputs": [],
   "source": [
    "import pandas as pd"
   ]
  },
  {
   "cell_type": "code",
   "execution_count": 27,
   "id": "5e7a9646",
   "metadata": {},
   "outputs": [],
   "source": [
    "data = pd.read_csv(data_file)"
   ]
  },
  {
   "cell_type": "code",
   "execution_count": 28,
   "id": "dc54b616",
   "metadata": {},
   "outputs": [
    {
     "name": "stdout",
     "output_type": "stream",
     "text": [
      "   NumRooms Alley   Price\n",
      "0       NaN  Pave  127500\n",
      "1       2.0   NaN  106000\n",
      "2       4.0   NaN  178100\n",
      "3       NaN   NaN  140000\n"
     ]
    }
   ],
   "source": [
    "print(data)"
   ]
  },
  {
   "cell_type": "code",
   "execution_count": 34,
   "id": "750af8be",
   "metadata": {},
   "outputs": [],
   "source": [
    "inputs, outputs = data.iloc[:,0:2],data.iloc[:,2]"
   ]
  },
  {
   "cell_type": "code",
   "execution_count": 35,
   "id": "e7723f74",
   "metadata": {},
   "outputs": [
    {
     "name": "stdout",
     "output_type": "stream",
     "text": [
      "   NumRooms Alley\n",
      "0       NaN  Pave\n",
      "1       2.0   NaN\n",
      "2       4.0   NaN\n",
      "3       NaN   NaN\n"
     ]
    }
   ],
   "source": [
    "print(inputs)"
   ]
  },
  {
   "cell_type": "code",
   "execution_count": 36,
   "id": "acc20da7",
   "metadata": {},
   "outputs": [
    {
     "name": "stdout",
     "output_type": "stream",
     "text": [
      "0    127500\n",
      "1    106000\n",
      "2    178100\n",
      "3    140000\n",
      "Name: Price, dtype: int64\n"
     ]
    }
   ],
   "source": [
    "print(outputs)"
   ]
  },
  {
   "cell_type": "code",
   "execution_count": 37,
   "id": "9438d66e",
   "metadata": {},
   "outputs": [],
   "source": [
    "#get_dummies处理离散/类别分类"
   ]
  },
  {
   "cell_type": "code",
   "execution_count": 38,
   "id": "9e85c520",
   "metadata": {},
   "outputs": [
    {
     "name": "stdout",
     "output_type": "stream",
     "text": [
      "   NumRooms  Alley_Pave  Alley_nan\n",
      "0       NaN           1          0\n",
      "1       2.0           0          1\n",
      "2       4.0           0          1\n",
      "3       NaN           0          1\n"
     ]
    }
   ],
   "source": [
    "inputs = pd.get_dummies(inputs,dummy_na=True)\n",
    "print(inputs)"
   ]
  },
  {
   "cell_type": "code",
   "execution_count": null,
   "id": "82d5a51a",
   "metadata": {},
   "outputs": [],
   "source": [
    "#pandas处理数据可用插值法和删除法"
   ]
  },
  {
   "cell_type": "code",
   "execution_count": null,
   "id": "5f73323d",
   "metadata": {},
   "outputs": [],
   "source": [
    "#filna处理nan填充"
   ]
  },
  {
   "cell_type": "code",
   "execution_count": 39,
   "id": "f93a4f1c",
   "metadata": {},
   "outputs": [
    {
     "name": "stdout",
     "output_type": "stream",
     "text": [
      "   NumRooms  Alley_Pave  Alley_nan\n",
      "0       3.0           1          0\n",
      "1       2.0           0          1\n",
      "2       4.0           0          1\n",
      "3       3.0           0          1\n"
     ]
    }
   ],
   "source": [
    "inputs = inputs.fillna(inputs.mean())\n",
    "print(inputs)"
   ]
  },
  {
   "cell_type": "code",
   "execution_count": 40,
   "id": "fea010e8",
   "metadata": {},
   "outputs": [],
   "source": [
    "#转化为张量格式"
   ]
  },
  {
   "cell_type": "code",
   "execution_count": 41,
   "id": "6e1e5bdc",
   "metadata": {},
   "outputs": [],
   "source": [
    "import torch\n",
    "X,y = torch.tensor(inputs.values), torch.tensor(outputs.values)"
   ]
  },
  {
   "cell_type": "code",
   "execution_count": 42,
   "id": "96cdedcf",
   "metadata": {},
   "outputs": [
    {
     "data": {
      "text/plain": [
       "(tensor([[3., 1., 0.],\n",
       "         [2., 0., 1.],\n",
       "         [4., 0., 1.],\n",
       "         [3., 0., 1.]], dtype=torch.float64),\n",
       " tensor([127500, 106000, 178100, 140000]))"
      ]
     },
     "execution_count": 42,
     "metadata": {},
     "output_type": "execute_result"
    }
   ],
   "source": [
    "X,y"
   ]
  },
  {
   "cell_type": "code",
   "execution_count": null,
   "id": "6d9163f2",
   "metadata": {},
   "outputs": [],
   "source": []
  }
 ],
 "metadata": {
  "kernelspec": {
   "display_name": "Python 3 (ipykernel)",
   "language": "python",
   "name": "python3"
  },
  "language_info": {
   "codemirror_mode": {
    "name": "ipython",
    "version": 3
   },
   "file_extension": ".py",
   "mimetype": "text/x-python",
   "name": "python",
   "nbconvert_exporter": "python",
   "pygments_lexer": "ipython3",
   "version": "3.8.16"
  }
 },
 "nbformat": 4,
 "nbformat_minor": 5
}
