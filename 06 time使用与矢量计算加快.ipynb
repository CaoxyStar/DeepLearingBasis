{
 "cells": [
  {
   "cell_type": "code",
   "execution_count": 2,
   "id": "57dedd71",
   "metadata": {},
   "outputs": [],
   "source": [
    "import math\n",
    "import time\n",
    "import numpy as np\n",
    "import torch"
   ]
  },
  {
   "cell_type": "markdown",
   "id": "af9224d4",
   "metadata": {},
   "source": [
    "# "
   ]
  },
  {
   "cell_type": "code",
   "execution_count": 3,
   "id": "f6cc519e",
   "metadata": {},
   "outputs": [],
   "source": [
    "a=torch.ones(1000)"
   ]
  },
  {
   "cell_type": "code",
   "execution_count": 5,
   "id": "a217ded6",
   "metadata": {},
   "outputs": [
    {
     "data": {
      "text/plain": [
       "torch.Size([1000])"
      ]
     },
     "execution_count": 5,
     "metadata": {},
     "output_type": "execute_result"
    }
   ],
   "source": [
    "a.shape"
   ]
  },
  {
   "cell_type": "code",
   "execution_count": 6,
   "id": "1f4e3edb",
   "metadata": {},
   "outputs": [],
   "source": [
    "b=torch.ones([1000])"
   ]
  },
  {
   "cell_type": "code",
   "execution_count": 7,
   "id": "c2fdedfd",
   "metadata": {},
   "outputs": [
    {
     "data": {
      "text/plain": [
       "torch.Size([1000])"
      ]
     },
     "execution_count": 7,
     "metadata": {},
     "output_type": "execute_result"
    }
   ],
   "source": [
    "b.shape"
   ]
  },
  {
   "cell_type": "code",
   "execution_count": 8,
   "id": "bb086405",
   "metadata": {},
   "outputs": [],
   "source": [
    "c=torch.zeros(1000)"
   ]
  },
  {
   "cell_type": "code",
   "execution_count": 9,
   "id": "1e477133",
   "metadata": {},
   "outputs": [
    {
     "name": "stdout",
     "output_type": "stream",
     "text": [
      "0.11631345748901367\n"
     ]
    }
   ],
   "source": [
    "time1 = time.time()\n",
    "for i in range(1000):\n",
    "    c[i] = a[i]+b[i]\n",
    "time2 = time.time()\n",
    "print(time2-time1)"
   ]
  },
  {
   "cell_type": "code",
   "execution_count": 10,
   "id": "bb6010ab",
   "metadata": {},
   "outputs": [
    {
     "name": "stdout",
     "output_type": "stream",
     "text": [
      "0.0003018379211425781\n"
     ]
    }
   ],
   "source": [
    "time1 = time.time()\n",
    "c=a+b\n",
    "time2 = time.time()\n",
    "print(time2-time1)"
   ]
  },
  {
   "cell_type": "code",
   "execution_count": null,
   "id": "adcb335a",
   "metadata": {},
   "outputs": [],
   "source": []
  }
 ],
 "metadata": {
  "kernelspec": {
   "display_name": "Python 3 (ipykernel)",
   "language": "python",
   "name": "python3"
  },
  "language_info": {
   "codemirror_mode": {
    "name": "ipython",
    "version": 3
   },
   "file_extension": ".py",
   "mimetype": "text/x-python",
   "name": "python",
   "nbconvert_exporter": "python",
   "pygments_lexer": "ipython3",
   "version": "3.8.16"
  }
 },
 "nbformat": 4,
 "nbformat_minor": 5
}
