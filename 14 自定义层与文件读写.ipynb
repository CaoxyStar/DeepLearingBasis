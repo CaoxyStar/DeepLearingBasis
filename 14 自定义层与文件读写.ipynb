{
 "cells": [
  {
   "cell_type": "code",
   "execution_count": 1,
   "id": "0b316788",
   "metadata": {},
   "outputs": [],
   "source": [
    "import torch\n",
    "import torch.nn.functional as F\n",
    "from torch import nn"
   ]
  },
  {
   "cell_type": "code",
   "execution_count": 9,
   "id": "12f4f012",
   "metadata": {},
   "outputs": [],
   "source": [
    "class CenterLayer(nn.Module):\n",
    "    def __init__(self):\n",
    "        super().__init__()\n",
    "    def forward(self, X):\n",
    "        return X - X.mean()"
   ]
  },
  {
   "cell_type": "code",
   "execution_count": 10,
   "id": "8122259d",
   "metadata": {},
   "outputs": [],
   "source": [
    "layer = CenterLayer()"
   ]
  },
  {
   "cell_type": "code",
   "execution_count": 14,
   "id": "47c61e2c",
   "metadata": {},
   "outputs": [
    {
     "data": {
      "text/plain": [
       "tensor([-2., -1.,  0.,  1.,  2.])"
      ]
     },
     "execution_count": 14,
     "metadata": {},
     "output_type": "execute_result"
    }
   ],
   "source": [
    "layer(torch.FloatTensor([1, 2, 3, 4, 5]))"
   ]
  },
  {
   "cell_type": "code",
   "execution_count": 15,
   "id": "7c17884c",
   "metadata": {},
   "outputs": [],
   "source": [
    "X = torch.arange(5, dtype=torch.float32)"
   ]
  },
  {
   "cell_type": "code",
   "execution_count": 16,
   "id": "f80c1145",
   "metadata": {},
   "outputs": [
    {
     "data": {
      "text/plain": [
       "tensor([-2., -1.,  0.,  1.,  2.])"
      ]
     },
     "execution_count": 16,
     "metadata": {},
     "output_type": "execute_result"
    }
   ],
   "source": [
    "layer(X)"
   ]
  },
  {
   "cell_type": "code",
   "execution_count": 17,
   "id": "5de829dd",
   "metadata": {},
   "outputs": [],
   "source": [
    "net = nn.Sequential(nn.Linear(5, 10), nn.ReLU(), nn.Linear(10, 1))"
   ]
  },
  {
   "cell_type": "code",
   "execution_count": 18,
   "id": "7696f9d8",
   "metadata": {},
   "outputs": [],
   "source": [
    "def init_ones(m):\n",
    "    if type(m) == nn.Linear:\n",
    "        nn.init.ones_(m.weight)\n",
    "        nn.init.zeros_(m.bias)"
   ]
  },
  {
   "cell_type": "code",
   "execution_count": 19,
   "id": "b76e5106",
   "metadata": {},
   "outputs": [
    {
     "data": {
      "text/plain": [
       "Sequential(\n",
       "  (0): Linear(in_features=5, out_features=10, bias=True)\n",
       "  (1): ReLU()\n",
       "  (2): Linear(in_features=10, out_features=1, bias=True)\n",
       ")"
      ]
     },
     "execution_count": 19,
     "metadata": {},
     "output_type": "execute_result"
    }
   ],
   "source": [
    "net.apply(init_ones)"
   ]
  },
  {
   "cell_type": "code",
   "execution_count": 20,
   "id": "3a02e357",
   "metadata": {},
   "outputs": [
    {
     "data": {
      "text/plain": [
       "Parameter containing:\n",
       "tensor([[1., 1., 1., 1., 1.],\n",
       "        [1., 1., 1., 1., 1.],\n",
       "        [1., 1., 1., 1., 1.],\n",
       "        [1., 1., 1., 1., 1.],\n",
       "        [1., 1., 1., 1., 1.],\n",
       "        [1., 1., 1., 1., 1.],\n",
       "        [1., 1., 1., 1., 1.],\n",
       "        [1., 1., 1., 1., 1.],\n",
       "        [1., 1., 1., 1., 1.],\n",
       "        [1., 1., 1., 1., 1.]], requires_grad=True)"
      ]
     },
     "execution_count": 20,
     "metadata": {},
     "output_type": "execute_result"
    }
   ],
   "source": [
    "net[0].weight"
   ]
  },
  {
   "cell_type": "code",
   "execution_count": 21,
   "id": "31eeae59",
   "metadata": {},
   "outputs": [
    {
     "data": {
      "text/plain": [
       "Parameter containing:\n",
       "tensor([0., 0., 0., 0., 0., 0., 0., 0., 0., 0.], requires_grad=True)"
      ]
     },
     "execution_count": 21,
     "metadata": {},
     "output_type": "execute_result"
    }
   ],
   "source": [
    "net[0].bias"
   ]
  },
  {
   "cell_type": "code",
   "execution_count": 22,
   "id": "14bae34b",
   "metadata": {},
   "outputs": [],
   "source": [
    "torch.save(net.state_dict(), \"test.params\")"
   ]
  },
  {
   "cell_type": "code",
   "execution_count": 24,
   "id": "dd5e336a",
   "metadata": {},
   "outputs": [],
   "source": [
    "net2=nn.Sequential(nn.Linear(5, 10), nn.ReLU(), nn.Linear(10, 1))"
   ]
  },
  {
   "cell_type": "code",
   "execution_count": 25,
   "id": "d347a7f2",
   "metadata": {},
   "outputs": [
    {
     "data": {
      "text/plain": [
       "Parameter containing:\n",
       "tensor([[ 0.2046,  0.1665,  0.0622, -0.4409, -0.3601],\n",
       "        [ 0.1157, -0.0843, -0.0527,  0.2909, -0.4455],\n",
       "        [-0.2787, -0.0076,  0.1805, -0.3056,  0.2448],\n",
       "        [-0.3835, -0.2038, -0.0088,  0.1396, -0.2942],\n",
       "        [-0.0318, -0.1889, -0.4036, -0.3052, -0.1948],\n",
       "        [ 0.1329, -0.2048, -0.2307,  0.4171,  0.4152],\n",
       "        [ 0.1933,  0.0916, -0.2804, -0.0864, -0.1279],\n",
       "        [ 0.3767, -0.1776, -0.2878,  0.3111, -0.3860],\n",
       "        [-0.2102, -0.2435,  0.4064,  0.3377,  0.2058],\n",
       "        [-0.2186, -0.4056, -0.0354,  0.2544,  0.3469]], requires_grad=True)"
      ]
     },
     "execution_count": 25,
     "metadata": {},
     "output_type": "execute_result"
    }
   ],
   "source": [
    "net2[0].weight"
   ]
  },
  {
   "cell_type": "code",
   "execution_count": 26,
   "id": "81bb7fb0",
   "metadata": {},
   "outputs": [
    {
     "data": {
      "text/plain": [
       "<All keys matched successfully>"
      ]
     },
     "execution_count": 26,
     "metadata": {},
     "output_type": "execute_result"
    }
   ],
   "source": [
    "net2.load_state_dict(torch.load('test.params'))"
   ]
  },
  {
   "cell_type": "code",
   "execution_count": 27,
   "id": "4c23094c",
   "metadata": {},
   "outputs": [
    {
     "data": {
      "text/plain": [
       "Parameter containing:\n",
       "tensor([[1., 1., 1., 1., 1.],\n",
       "        [1., 1., 1., 1., 1.],\n",
       "        [1., 1., 1., 1., 1.],\n",
       "        [1., 1., 1., 1., 1.],\n",
       "        [1., 1., 1., 1., 1.],\n",
       "        [1., 1., 1., 1., 1.],\n",
       "        [1., 1., 1., 1., 1.],\n",
       "        [1., 1., 1., 1., 1.],\n",
       "        [1., 1., 1., 1., 1.],\n",
       "        [1., 1., 1., 1., 1.]], requires_grad=True)"
      ]
     },
     "execution_count": 27,
     "metadata": {},
     "output_type": "execute_result"
    }
   ],
   "source": [
    "net2[0].weight"
   ]
  },
  {
   "cell_type": "code",
   "execution_count": 28,
   "id": "23218643",
   "metadata": {},
   "outputs": [
    {
     "data": {
      "text/plain": [
       "False"
      ]
     },
     "execution_count": 28,
     "metadata": {},
     "output_type": "execute_result"
    }
   ],
   "source": [
    "net2 == net"
   ]
  },
  {
   "cell_type": "code",
   "execution_count": 29,
   "id": "4c61c449",
   "metadata": {},
   "outputs": [
    {
     "data": {
      "text/plain": [
       "Sequential(\n",
       "  (0): Linear(in_features=5, out_features=10, bias=True)\n",
       "  (1): ReLU()\n",
       "  (2): Linear(in_features=10, out_features=1, bias=True)\n",
       ")"
      ]
     },
     "execution_count": 29,
     "metadata": {},
     "output_type": "execute_result"
    }
   ],
   "source": [
    "net2"
   ]
  },
  {
   "cell_type": "code",
   "execution_count": 30,
   "id": "1414382e",
   "metadata": {},
   "outputs": [
    {
     "data": {
      "text/plain": [
       "Sequential(\n",
       "  (0): Linear(in_features=5, out_features=10, bias=True)\n",
       "  (1): ReLU()\n",
       "  (2): Linear(in_features=10, out_features=1, bias=True)\n",
       ")"
      ]
     },
     "execution_count": 30,
     "metadata": {},
     "output_type": "execute_result"
    }
   ],
   "source": [
    "net"
   ]
  },
  {
   "cell_type": "code",
   "execution_count": 33,
   "id": "984f68a3",
   "metadata": {},
   "outputs": [],
   "source": [
    "X = torch.rand((2, 5))"
   ]
  },
  {
   "cell_type": "code",
   "execution_count": 35,
   "id": "7cf38f1e",
   "metadata": {},
   "outputs": [
    {
     "data": {
      "text/plain": [
       "tensor([[True],\n",
       "        [True]])"
      ]
     },
     "execution_count": 35,
     "metadata": {},
     "output_type": "execute_result"
    }
   ],
   "source": [
    "net(X) == net2(X)"
   ]
  },
  {
   "cell_type": "code",
   "execution_count": 36,
   "id": "92552697",
   "metadata": {},
   "outputs": [],
   "source": [
    "torch.save(X, \"x.param\")"
   ]
  },
  {
   "cell_type": "code",
   "execution_count": 37,
   "id": "4e9ae742",
   "metadata": {},
   "outputs": [],
   "source": [
    "y = torch.load('x.param')"
   ]
  },
  {
   "cell_type": "code",
   "execution_count": 38,
   "id": "68d2d6f8",
   "metadata": {},
   "outputs": [
    {
     "data": {
      "text/plain": [
       "tensor([[True, True, True, True, True],\n",
       "        [True, True, True, True, True]])"
      ]
     },
     "execution_count": 38,
     "metadata": {},
     "output_type": "execute_result"
    }
   ],
   "source": [
    "y==X"
   ]
  },
  {
   "cell_type": "code",
   "execution_count": null,
   "id": "d52c8947",
   "metadata": {},
   "outputs": [],
   "source": []
  }
 ],
 "metadata": {
  "kernelspec": {
   "display_name": "Python 3 (ipykernel)",
   "language": "python",
   "name": "python3"
  },
  "language_info": {
   "codemirror_mode": {
    "name": "ipython",
    "version": 3
   },
   "file_extension": ".py",
   "mimetype": "text/x-python",
   "name": "python",
   "nbconvert_exporter": "python",
   "pygments_lexer": "ipython3",
   "version": "3.8.16"
  }
 },
 "nbformat": 4,
 "nbformat_minor": 5
}
